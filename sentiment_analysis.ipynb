{
  "cells": [
    {
      "cell_type": "markdown",
      "id": "ce17f0ed",
      "metadata": {
        "_cell_guid": "b1076dfc-b9ad-4769-8c92-a6c4dae69d19",
        "_uuid": "8f2839f25d086af736a60e9eeb907d3b93b6e0e5",
        "papermill": {
          "duration": 0.044276,
          "end_time": "2022-05-05T13:16:45.092039",
          "exception": false,
          "start_time": "2022-05-05T13:16:45.047763",
          "status": "completed"
        },
        "tags": [],
        "id": "ce17f0ed"
      },
      "source": [
        "# Sentiment Analysis in Python\n",
        "\n",
        "In this notebook we will be doing some sentiment analysis in python using two different techniques:\n",
        "1. VADER (Valence Aware Dictionary and sEntiment Reasoner) - Bag of words approach\n",
        "2. Roberta Pretrained Model from 🤗\n",
        "3. Huggingface Pipeline"
      ]
    },
    {
      "cell_type": "markdown",
      "id": "6bf3e498",
      "metadata": {
        "papermill": {
          "duration": 0.041936,
          "end_time": "2022-05-05T13:16:45.177130",
          "exception": false,
          "start_time": "2022-05-05T13:16:45.135194",
          "status": "completed"
        },
        "tags": [],
        "id": "6bf3e498"
      },
      "source": [
        "# Step 0. Read in Data and NLTK Basics"
      ]
    },
    {
      "cell_type": "code",
      "execution_count": 8,
      "id": "88f3972c",
      "metadata": {
        "execution": {
          "iopub.execute_input": "2022-05-05T13:16:45.265700Z",
          "iopub.status.busy": "2022-05-05T13:16:45.264614Z",
          "iopub.status.idle": "2022-05-05T13:16:47.179249Z",
          "shell.execute_reply": "2022-05-05T13:16:47.178191Z"
        },
        "papermill": {
          "duration": 1.962598,
          "end_time": "2022-05-05T13:16:47.182472",
          "exception": false,
          "start_time": "2022-05-05T13:16:45.219874",
          "status": "completed"
        },
        "tags": [],
        "id": "88f3972c"
      },
      "outputs": [],
      "source": [
        "import pandas as pd\n",
        "import numpy as np\n",
        "import matplotlib.pyplot as plt\n",
        "import seaborn as sns\n",
        "\n",
        "plt.style.use('ggplot')\n",
        "\n",
        "import nltk"
      ]
    },
    {
      "cell_type": "code",
      "execution_count": 9,
      "id": "b416c4fb",
      "metadata": {
        "execution": {
          "iopub.execute_input": "2022-05-05T13:16:47.274644Z",
          "iopub.status.busy": "2022-05-05T13:16:47.274246Z",
          "iopub.status.idle": "2022-05-05T13:16:55.764854Z",
          "shell.execute_reply": "2022-05-05T13:16:55.763841Z"
        },
        "papermill": {
          "duration": 8.537322,
          "end_time": "2022-05-05T13:16:55.767413",
          "exception": false,
          "start_time": "2022-05-05T13:16:47.230091",
          "status": "completed"
        },
        "tags": [],
        "colab": {
          "base_uri": "https://localhost:8080/"
        },
        "id": "b416c4fb",
        "outputId": "149298e5-74d2-40b3-e459-64839409382a"
      },
      "outputs": [
        {
          "output_type": "stream",
          "name": "stdout",
          "text": [
            "(58153, 1)\n",
            "(500, 1)\n"
          ]
        }
      ],
      "source": [
        "# Read in data\n",
        "import csv\n",
        "df = pd.read_csv('/content/Reviews.csv', header = None, delimiter=\"\\t\", quoting=csv.QUOTE_NONE, encoding='utf-8')\n",
        "print(df.shape)\n",
        "df = df.head(500)\n",
        "print(df.shape)"
      ]
    },
    {
      "cell_type": "code",
      "source": [
        "df = pd.read_excel('/content/Reviews.csv')"
      ],
      "metadata": {
        "colab": {
          "base_uri": "https://localhost:8080/",
          "height": 287
        },
        "id": "OWjp7lOEb71s",
        "outputId": "63cd7a0c-fba9-4d16-ef00-560f14ae7a5b"
      },
      "id": "OWjp7lOEb71s",
      "execution_count": 12,
      "outputs": [
        {
          "output_type": "error",
          "ename": "BadZipFile",
          "evalue": "File is not a zip file",
          "traceback": [
            "\u001b[0;31m---------------------------------------------------------------------------\u001b[0m",
            "\u001b[0;31mBadZipFile\u001b[0m                                Traceback (most recent call last)",
            "\u001b[0;32m<ipython-input-12-f1f8a56e7baf>\u001b[0m in \u001b[0;36m<cell line: 1>\u001b[0;34m()\u001b[0m\n\u001b[0;32m----> 1\u001b[0;31m \u001b[0mdf\u001b[0m \u001b[0;34m=\u001b[0m \u001b[0mpd\u001b[0m\u001b[0;34m.\u001b[0m\u001b[0mread_excel\u001b[0m\u001b[0;34m(\u001b[0m\u001b[0;34m'/content/Reviews.xlsx'\u001b[0m\u001b[0;34m)\u001b[0m\u001b[0;34m\u001b[0m\u001b[0;34m\u001b[0m\u001b[0m\n\u001b[0m",
            "\u001b[0;32m/usr/local/lib/python3.10/dist-packages/pandas/io/excel/_base.py\u001b[0m in \u001b[0;36mread_excel\u001b[0;34m(io, sheet_name, header, names, index_col, usecols, dtype, engine, converters, true_values, false_values, skiprows, nrows, na_values, keep_default_na, na_filter, verbose, parse_dates, date_parser, date_format, thousands, decimal, comment, skipfooter, storage_options, dtype_backend)\u001b[0m\n\u001b[1;32m    476\u001b[0m     \u001b[0;32mif\u001b[0m \u001b[0;32mnot\u001b[0m \u001b[0misinstance\u001b[0m\u001b[0;34m(\u001b[0m\u001b[0mio\u001b[0m\u001b[0;34m,\u001b[0m \u001b[0mExcelFile\u001b[0m\u001b[0;34m)\u001b[0m\u001b[0;34m:\u001b[0m\u001b[0;34m\u001b[0m\u001b[0;34m\u001b[0m\u001b[0m\n\u001b[1;32m    477\u001b[0m         \u001b[0mshould_close\u001b[0m \u001b[0;34m=\u001b[0m \u001b[0;32mTrue\u001b[0m\u001b[0;34m\u001b[0m\u001b[0;34m\u001b[0m\u001b[0m\n\u001b[0;32m--> 478\u001b[0;31m         \u001b[0mio\u001b[0m \u001b[0;34m=\u001b[0m \u001b[0mExcelFile\u001b[0m\u001b[0;34m(\u001b[0m\u001b[0mio\u001b[0m\u001b[0;34m,\u001b[0m \u001b[0mstorage_options\u001b[0m\u001b[0;34m=\u001b[0m\u001b[0mstorage_options\u001b[0m\u001b[0;34m,\u001b[0m \u001b[0mengine\u001b[0m\u001b[0;34m=\u001b[0m\u001b[0mengine\u001b[0m\u001b[0;34m)\u001b[0m\u001b[0;34m\u001b[0m\u001b[0;34m\u001b[0m\u001b[0m\n\u001b[0m\u001b[1;32m    479\u001b[0m     \u001b[0;32melif\u001b[0m \u001b[0mengine\u001b[0m \u001b[0;32mand\u001b[0m \u001b[0mengine\u001b[0m \u001b[0;34m!=\u001b[0m \u001b[0mio\u001b[0m\u001b[0;34m.\u001b[0m\u001b[0mengine\u001b[0m\u001b[0;34m:\u001b[0m\u001b[0;34m\u001b[0m\u001b[0;34m\u001b[0m\u001b[0m\n\u001b[1;32m    480\u001b[0m         raise ValueError(\n",
            "\u001b[0;32m/usr/local/lib/python3.10/dist-packages/pandas/io/excel/_base.py\u001b[0m in \u001b[0;36m__init__\u001b[0;34m(self, path_or_buffer, engine, storage_options)\u001b[0m\n\u001b[1;32m   1494\u001b[0m                 \u001b[0mext\u001b[0m \u001b[0;34m=\u001b[0m \u001b[0;34m\"xls\"\u001b[0m\u001b[0;34m\u001b[0m\u001b[0;34m\u001b[0m\u001b[0m\n\u001b[1;32m   1495\u001b[0m             \u001b[0;32melse\u001b[0m\u001b[0;34m:\u001b[0m\u001b[0;34m\u001b[0m\u001b[0;34m\u001b[0m\u001b[0m\n\u001b[0;32m-> 1496\u001b[0;31m                 ext = inspect_excel_format(\n\u001b[0m\u001b[1;32m   1497\u001b[0m                     \u001b[0mcontent_or_path\u001b[0m\u001b[0;34m=\u001b[0m\u001b[0mpath_or_buffer\u001b[0m\u001b[0;34m,\u001b[0m \u001b[0mstorage_options\u001b[0m\u001b[0;34m=\u001b[0m\u001b[0mstorage_options\u001b[0m\u001b[0;34m\u001b[0m\u001b[0;34m\u001b[0m\u001b[0m\n\u001b[1;32m   1498\u001b[0m                 )\n",
            "\u001b[0;32m/usr/local/lib/python3.10/dist-packages/pandas/io/excel/_base.py\u001b[0m in \u001b[0;36minspect_excel_format\u001b[0;34m(content_or_path, storage_options)\u001b[0m\n\u001b[1;32m   1386\u001b[0m             \u001b[0;32mreturn\u001b[0m \u001b[0;32mNone\u001b[0m\u001b[0;34m\u001b[0m\u001b[0;34m\u001b[0m\u001b[0m\n\u001b[1;32m   1387\u001b[0m \u001b[0;34m\u001b[0m\u001b[0m\n\u001b[0;32m-> 1388\u001b[0;31m         \u001b[0;32mwith\u001b[0m \u001b[0mzipfile\u001b[0m\u001b[0;34m.\u001b[0m\u001b[0mZipFile\u001b[0m\u001b[0;34m(\u001b[0m\u001b[0mstream\u001b[0m\u001b[0;34m)\u001b[0m \u001b[0;32mas\u001b[0m \u001b[0mzf\u001b[0m\u001b[0;34m:\u001b[0m\u001b[0;34m\u001b[0m\u001b[0;34m\u001b[0m\u001b[0m\n\u001b[0m\u001b[1;32m   1389\u001b[0m             \u001b[0;31m# Workaround for some third party files that use forward slashes and\u001b[0m\u001b[0;34m\u001b[0m\u001b[0;34m\u001b[0m\u001b[0m\n\u001b[1;32m   1390\u001b[0m             \u001b[0;31m# lower case names.\u001b[0m\u001b[0;34m\u001b[0m\u001b[0;34m\u001b[0m\u001b[0m\n",
            "\u001b[0;32m/usr/lib/python3.10/zipfile.py\u001b[0m in \u001b[0;36m__init__\u001b[0;34m(self, file, mode, compression, allowZip64, compresslevel, strict_timestamps)\u001b[0m\n\u001b[1;32m   1269\u001b[0m         \u001b[0;32mtry\u001b[0m\u001b[0;34m:\u001b[0m\u001b[0;34m\u001b[0m\u001b[0;34m\u001b[0m\u001b[0m\n\u001b[1;32m   1270\u001b[0m             \u001b[0;32mif\u001b[0m \u001b[0mmode\u001b[0m \u001b[0;34m==\u001b[0m \u001b[0;34m'r'\u001b[0m\u001b[0;34m:\u001b[0m\u001b[0;34m\u001b[0m\u001b[0;34m\u001b[0m\u001b[0m\n\u001b[0;32m-> 1271\u001b[0;31m                 \u001b[0mself\u001b[0m\u001b[0;34m.\u001b[0m\u001b[0m_RealGetContents\u001b[0m\u001b[0;34m(\u001b[0m\u001b[0;34m)\u001b[0m\u001b[0;34m\u001b[0m\u001b[0;34m\u001b[0m\u001b[0m\n\u001b[0m\u001b[1;32m   1272\u001b[0m             \u001b[0;32melif\u001b[0m \u001b[0mmode\u001b[0m \u001b[0;32min\u001b[0m \u001b[0;34m(\u001b[0m\u001b[0;34m'w'\u001b[0m\u001b[0;34m,\u001b[0m \u001b[0;34m'x'\u001b[0m\u001b[0;34m)\u001b[0m\u001b[0;34m:\u001b[0m\u001b[0;34m\u001b[0m\u001b[0;34m\u001b[0m\u001b[0m\n\u001b[1;32m   1273\u001b[0m                 \u001b[0;31m# set the modified flag so central directory gets written\u001b[0m\u001b[0;34m\u001b[0m\u001b[0;34m\u001b[0m\u001b[0m\n",
            "\u001b[0;32m/usr/lib/python3.10/zipfile.py\u001b[0m in \u001b[0;36m_RealGetContents\u001b[0;34m(self)\u001b[0m\n\u001b[1;32m   1336\u001b[0m             \u001b[0;32mraise\u001b[0m \u001b[0mBadZipFile\u001b[0m\u001b[0;34m(\u001b[0m\u001b[0;34m\"File is not a zip file\"\u001b[0m\u001b[0;34m)\u001b[0m\u001b[0;34m\u001b[0m\u001b[0;34m\u001b[0m\u001b[0m\n\u001b[1;32m   1337\u001b[0m         \u001b[0;32mif\u001b[0m \u001b[0;32mnot\u001b[0m \u001b[0mendrec\u001b[0m\u001b[0;34m:\u001b[0m\u001b[0;34m\u001b[0m\u001b[0;34m\u001b[0m\u001b[0m\n\u001b[0;32m-> 1338\u001b[0;31m             \u001b[0;32mraise\u001b[0m \u001b[0mBadZipFile\u001b[0m\u001b[0;34m(\u001b[0m\u001b[0;34m\"File is not a zip file\"\u001b[0m\u001b[0;34m)\u001b[0m\u001b[0;34m\u001b[0m\u001b[0;34m\u001b[0m\u001b[0m\n\u001b[0m\u001b[1;32m   1339\u001b[0m         \u001b[0;32mif\u001b[0m \u001b[0mself\u001b[0m\u001b[0;34m.\u001b[0m\u001b[0mdebug\u001b[0m \u001b[0;34m>\u001b[0m \u001b[0;36m1\u001b[0m\u001b[0;34m:\u001b[0m\u001b[0;34m\u001b[0m\u001b[0;34m\u001b[0m\u001b[0m\n\u001b[1;32m   1340\u001b[0m             \u001b[0mprint\u001b[0m\u001b[0;34m(\u001b[0m\u001b[0mendrec\u001b[0m\u001b[0;34m)\u001b[0m\u001b[0;34m\u001b[0m\u001b[0;34m\u001b[0m\u001b[0m\n",
            "\u001b[0;31mBadZipFile\u001b[0m: File is not a zip file"
          ]
        }
      ]
    },
    {
      "cell_type": "code",
      "execution_count": 10,
      "id": "b1eb2d2a",
      "metadata": {
        "execution": {
          "iopub.execute_input": "2022-05-05T13:16:55.858541Z",
          "iopub.status.busy": "2022-05-05T13:16:55.857359Z",
          "iopub.status.idle": "2022-05-05T13:16:55.882061Z",
          "shell.execute_reply": "2022-05-05T13:16:55.880970Z"
        },
        "papermill": {
          "duration": 0.073034,
          "end_time": "2022-05-05T13:16:55.884548",
          "exception": false,
          "start_time": "2022-05-05T13:16:55.811514",
          "status": "completed"
        },
        "tags": [],
        "colab": {
          "base_uri": "https://localhost:8080/",
          "height": 206
        },
        "id": "b1eb2d2a",
        "outputId": "f0d1c772-701b-4370-8753-18742a0dc8ff"
      },
      "outputs": [
        {
          "output_type": "execute_result",
          "data": {
            "text/plain": [
              "                                                   0\n",
              "0  Id,ProductId,UserId,ProfileName,HelpfulnessNum...\n",
              "1  1,B001E4KFG0,A3SGXH7AUHU8GW,delmartian,1,1,5,1...\n",
              "2  2,B00813GRG4,A1D87F6ZCVE5NK,dll pa,0,0,1,13469...\n",
              "3  3,B000LQOCH0,ABXLMWJIXXAIN,\"Natalia Corres \"\"N...\n",
              "4  4,B000UA0QIQ,A395BORC6FGVXV,Karl,3,3,2,1307923..."
            ],
            "text/html": [
              "\n",
              "  <div id=\"df-d8cdf93a-a075-4bee-b153-a75e1702ec69\" class=\"colab-df-container\">\n",
              "    <div>\n",
              "<style scoped>\n",
              "    .dataframe tbody tr th:only-of-type {\n",
              "        vertical-align: middle;\n",
              "    }\n",
              "\n",
              "    .dataframe tbody tr th {\n",
              "        vertical-align: top;\n",
              "    }\n",
              "\n",
              "    .dataframe thead th {\n",
              "        text-align: right;\n",
              "    }\n",
              "</style>\n",
              "<table border=\"1\" class=\"dataframe\">\n",
              "  <thead>\n",
              "    <tr style=\"text-align: right;\">\n",
              "      <th></th>\n",
              "      <th>0</th>\n",
              "    </tr>\n",
              "  </thead>\n",
              "  <tbody>\n",
              "    <tr>\n",
              "      <th>0</th>\n",
              "      <td>Id,ProductId,UserId,ProfileName,HelpfulnessNum...</td>\n",
              "    </tr>\n",
              "    <tr>\n",
              "      <th>1</th>\n",
              "      <td>1,B001E4KFG0,A3SGXH7AUHU8GW,delmartian,1,1,5,1...</td>\n",
              "    </tr>\n",
              "    <tr>\n",
              "      <th>2</th>\n",
              "      <td>2,B00813GRG4,A1D87F6ZCVE5NK,dll pa,0,0,1,13469...</td>\n",
              "    </tr>\n",
              "    <tr>\n",
              "      <th>3</th>\n",
              "      <td>3,B000LQOCH0,ABXLMWJIXXAIN,\"Natalia Corres \"\"N...</td>\n",
              "    </tr>\n",
              "    <tr>\n",
              "      <th>4</th>\n",
              "      <td>4,B000UA0QIQ,A395BORC6FGVXV,Karl,3,3,2,1307923...</td>\n",
              "    </tr>\n",
              "  </tbody>\n",
              "</table>\n",
              "</div>\n",
              "    <div class=\"colab-df-buttons\">\n",
              "\n",
              "  <div class=\"colab-df-container\">\n",
              "    <button class=\"colab-df-convert\" onclick=\"convertToInteractive('df-d8cdf93a-a075-4bee-b153-a75e1702ec69')\"\n",
              "            title=\"Convert this dataframe to an interactive table.\"\n",
              "            style=\"display:none;\">\n",
              "\n",
              "  <svg xmlns=\"http://www.w3.org/2000/svg\" height=\"24px\" viewBox=\"0 -960 960 960\">\n",
              "    <path d=\"M120-120v-720h720v720H120Zm60-500h600v-160H180v160Zm220 220h160v-160H400v160Zm0 220h160v-160H400v160ZM180-400h160v-160H180v160Zm440 0h160v-160H620v160ZM180-180h160v-160H180v160Zm440 0h160v-160H620v160Z\"/>\n",
              "  </svg>\n",
              "    </button>\n",
              "\n",
              "  <style>\n",
              "    .colab-df-container {\n",
              "      display:flex;\n",
              "      gap: 12px;\n",
              "    }\n",
              "\n",
              "    .colab-df-convert {\n",
              "      background-color: #E8F0FE;\n",
              "      border: none;\n",
              "      border-radius: 50%;\n",
              "      cursor: pointer;\n",
              "      display: none;\n",
              "      fill: #1967D2;\n",
              "      height: 32px;\n",
              "      padding: 0 0 0 0;\n",
              "      width: 32px;\n",
              "    }\n",
              "\n",
              "    .colab-df-convert:hover {\n",
              "      background-color: #E2EBFA;\n",
              "      box-shadow: 0px 1px 2px rgba(60, 64, 67, 0.3), 0px 1px 3px 1px rgba(60, 64, 67, 0.15);\n",
              "      fill: #174EA6;\n",
              "    }\n",
              "\n",
              "    .colab-df-buttons div {\n",
              "      margin-bottom: 4px;\n",
              "    }\n",
              "\n",
              "    [theme=dark] .colab-df-convert {\n",
              "      background-color: #3B4455;\n",
              "      fill: #D2E3FC;\n",
              "    }\n",
              "\n",
              "    [theme=dark] .colab-df-convert:hover {\n",
              "      background-color: #434B5C;\n",
              "      box-shadow: 0px 1px 3px 1px rgba(0, 0, 0, 0.15);\n",
              "      filter: drop-shadow(0px 1px 2px rgba(0, 0, 0, 0.3));\n",
              "      fill: #FFFFFF;\n",
              "    }\n",
              "  </style>\n",
              "\n",
              "    <script>\n",
              "      const buttonEl =\n",
              "        document.querySelector('#df-d8cdf93a-a075-4bee-b153-a75e1702ec69 button.colab-df-convert');\n",
              "      buttonEl.style.display =\n",
              "        google.colab.kernel.accessAllowed ? 'block' : 'none';\n",
              "\n",
              "      async function convertToInteractive(key) {\n",
              "        const element = document.querySelector('#df-d8cdf93a-a075-4bee-b153-a75e1702ec69');\n",
              "        const dataTable =\n",
              "          await google.colab.kernel.invokeFunction('convertToInteractive',\n",
              "                                                    [key], {});\n",
              "        if (!dataTable) return;\n",
              "\n",
              "        const docLinkHtml = 'Like what you see? Visit the ' +\n",
              "          '<a target=\"_blank\" href=https://colab.research.google.com/notebooks/data_table.ipynb>data table notebook</a>'\n",
              "          + ' to learn more about interactive tables.';\n",
              "        element.innerHTML = '';\n",
              "        dataTable['output_type'] = 'display_data';\n",
              "        await google.colab.output.renderOutput(dataTable, element);\n",
              "        const docLink = document.createElement('div');\n",
              "        docLink.innerHTML = docLinkHtml;\n",
              "        element.appendChild(docLink);\n",
              "      }\n",
              "    </script>\n",
              "  </div>\n",
              "\n",
              "\n",
              "<div id=\"df-fe353a4b-3328-4679-9f36-8bdc3a62db4b\">\n",
              "  <button class=\"colab-df-quickchart\" onclick=\"quickchart('df-fe353a4b-3328-4679-9f36-8bdc3a62db4b')\"\n",
              "            title=\"Suggest charts\"\n",
              "            style=\"display:none;\">\n",
              "\n",
              "<svg xmlns=\"http://www.w3.org/2000/svg\" height=\"24px\"viewBox=\"0 0 24 24\"\n",
              "     width=\"24px\">\n",
              "    <g>\n",
              "        <path d=\"M19 3H5c-1.1 0-2 .9-2 2v14c0 1.1.9 2 2 2h14c1.1 0 2-.9 2-2V5c0-1.1-.9-2-2-2zM9 17H7v-7h2v7zm4 0h-2V7h2v10zm4 0h-2v-4h2v4z\"/>\n",
              "    </g>\n",
              "</svg>\n",
              "  </button>\n",
              "\n",
              "<style>\n",
              "  .colab-df-quickchart {\n",
              "      --bg-color: #E8F0FE;\n",
              "      --fill-color: #1967D2;\n",
              "      --hover-bg-color: #E2EBFA;\n",
              "      --hover-fill-color: #174EA6;\n",
              "      --disabled-fill-color: #AAA;\n",
              "      --disabled-bg-color: #DDD;\n",
              "  }\n",
              "\n",
              "  [theme=dark] .colab-df-quickchart {\n",
              "      --bg-color: #3B4455;\n",
              "      --fill-color: #D2E3FC;\n",
              "      --hover-bg-color: #434B5C;\n",
              "      --hover-fill-color: #FFFFFF;\n",
              "      --disabled-bg-color: #3B4455;\n",
              "      --disabled-fill-color: #666;\n",
              "  }\n",
              "\n",
              "  .colab-df-quickchart {\n",
              "    background-color: var(--bg-color);\n",
              "    border: none;\n",
              "    border-radius: 50%;\n",
              "    cursor: pointer;\n",
              "    display: none;\n",
              "    fill: var(--fill-color);\n",
              "    height: 32px;\n",
              "    padding: 0;\n",
              "    width: 32px;\n",
              "  }\n",
              "\n",
              "  .colab-df-quickchart:hover {\n",
              "    background-color: var(--hover-bg-color);\n",
              "    box-shadow: 0 1px 2px rgba(60, 64, 67, 0.3), 0 1px 3px 1px rgba(60, 64, 67, 0.15);\n",
              "    fill: var(--button-hover-fill-color);\n",
              "  }\n",
              "\n",
              "  .colab-df-quickchart-complete:disabled,\n",
              "  .colab-df-quickchart-complete:disabled:hover {\n",
              "    background-color: var(--disabled-bg-color);\n",
              "    fill: var(--disabled-fill-color);\n",
              "    box-shadow: none;\n",
              "  }\n",
              "\n",
              "  .colab-df-spinner {\n",
              "    border: 2px solid var(--fill-color);\n",
              "    border-color: transparent;\n",
              "    border-bottom-color: var(--fill-color);\n",
              "    animation:\n",
              "      spin 1s steps(1) infinite;\n",
              "  }\n",
              "\n",
              "  @keyframes spin {\n",
              "    0% {\n",
              "      border-color: transparent;\n",
              "      border-bottom-color: var(--fill-color);\n",
              "      border-left-color: var(--fill-color);\n",
              "    }\n",
              "    20% {\n",
              "      border-color: transparent;\n",
              "      border-left-color: var(--fill-color);\n",
              "      border-top-color: var(--fill-color);\n",
              "    }\n",
              "    30% {\n",
              "      border-color: transparent;\n",
              "      border-left-color: var(--fill-color);\n",
              "      border-top-color: var(--fill-color);\n",
              "      border-right-color: var(--fill-color);\n",
              "    }\n",
              "    40% {\n",
              "      border-color: transparent;\n",
              "      border-right-color: var(--fill-color);\n",
              "      border-top-color: var(--fill-color);\n",
              "    }\n",
              "    60% {\n",
              "      border-color: transparent;\n",
              "      border-right-color: var(--fill-color);\n",
              "    }\n",
              "    80% {\n",
              "      border-color: transparent;\n",
              "      border-right-color: var(--fill-color);\n",
              "      border-bottom-color: var(--fill-color);\n",
              "    }\n",
              "    90% {\n",
              "      border-color: transparent;\n",
              "      border-bottom-color: var(--fill-color);\n",
              "    }\n",
              "  }\n",
              "</style>\n",
              "\n",
              "  <script>\n",
              "    async function quickchart(key) {\n",
              "      const quickchartButtonEl =\n",
              "        document.querySelector('#' + key + ' button');\n",
              "      quickchartButtonEl.disabled = true;  // To prevent multiple clicks.\n",
              "      quickchartButtonEl.classList.add('colab-df-spinner');\n",
              "      try {\n",
              "        const charts = await google.colab.kernel.invokeFunction(\n",
              "            'suggestCharts', [key], {});\n",
              "      } catch (error) {\n",
              "        console.error('Error during call to suggestCharts:', error);\n",
              "      }\n",
              "      quickchartButtonEl.classList.remove('colab-df-spinner');\n",
              "      quickchartButtonEl.classList.add('colab-df-quickchart-complete');\n",
              "    }\n",
              "    (() => {\n",
              "      let quickchartButtonEl =\n",
              "        document.querySelector('#df-fe353a4b-3328-4679-9f36-8bdc3a62db4b button');\n",
              "      quickchartButtonEl.style.display =\n",
              "        google.colab.kernel.accessAllowed ? 'block' : 'none';\n",
              "    })();\n",
              "  </script>\n",
              "</div>\n",
              "\n",
              "    </div>\n",
              "  </div>\n"
            ],
            "application/vnd.google.colaboratory.intrinsic+json": {
              "type": "dataframe",
              "variable_name": "df",
              "summary": "{\n  \"name\": \"df\",\n  \"rows\": 500,\n  \"fields\": [\n    {\n      \"column\": 0,\n      \"properties\": {\n        \"dtype\": \"string\",\n        \"num_unique_values\": 500,\n        \"samples\": [\n          \"361,B0041QJSJS,A2BAVWMHL130WY,Bruce L. Ishimatsu,2,4,5,1318723200,Treat yourself to the best coffee!,\\\"Go ahead and drink the other brands served at your neighborhood cafe if you must but make sure you have a stash of Weaver's Peru Organic Whole Bean at home to serve up to your friends and family who deserve the best coffee.  And when you go back to that corner cafe where people drink average coffee because they don't know better, take along a travel mug filled with Weaver's coffee from home and enjoy a real Cup of Joe.  Er, Weaver's.\\\"\",\n          \"73,B006SQBRMA,ATYMT48R62ENE,Marie,0,0,5,1327017600,Best ever latice tart,\\\"I ordered two of these and two of raspberry latice tarts directly from FantasiCakes website for a dinner party I was hosting. It arrived fresh and intact. Very good size. I froze half for later use. I am a pastry lover and these were the best I've ever tasted. The pastry was soft, the jam was really good and the taste was great. They were gone in no time. My guests were really impressed.\\\"\",\n          \"374,B002O3VHXU,A2ZNLPYMZOXLGX,\\\"Michael Kelly \\\"\\\"kelly\\\"\\\"\\\",0,0,5,1299024000,Nantucket blend k-cups,\\\"One of Green Mountains best blends of coffee in my opinion,love it for your everyday blend, perfect stregnth, excellent blend!\\\"\"\n        ],\n        \"semantic_type\": \"\",\n        \"description\": \"\"\n      }\n    }\n  ]\n}"
            }
          },
          "metadata": {},
          "execution_count": 10
        }
      ],
      "source": [
        "df.head()"
      ]
    },
    {
      "cell_type": "markdown",
      "id": "eed80b6b",
      "metadata": {
        "papermill": {
          "duration": 0.043361,
          "end_time": "2022-05-05T13:16:55.973118",
          "exception": false,
          "start_time": "2022-05-05T13:16:55.929757",
          "status": "completed"
        },
        "tags": [],
        "id": "eed80b6b"
      },
      "source": [
        "## Quick EDA"
      ]
    },
    {
      "cell_type": "code",
      "execution_count": 11,
      "id": "51d81d6e",
      "metadata": {
        "execution": {
          "iopub.execute_input": "2022-05-05T13:16:56.062392Z",
          "iopub.status.busy": "2022-05-05T13:16:56.061640Z",
          "iopub.status.idle": "2022-05-05T13:16:56.318235Z",
          "shell.execute_reply": "2022-05-05T13:16:56.317466Z"
        },
        "papermill": {
          "duration": 0.303652,
          "end_time": "2022-05-05T13:16:56.320404",
          "exception": false,
          "start_time": "2022-05-05T13:16:56.016752",
          "status": "completed"
        },
        "tags": [],
        "colab": {
          "base_uri": "https://localhost:8080/",
          "height": 443
        },
        "id": "51d81d6e",
        "outputId": "f5334df3-8402-4dd2-fac8-acb7f778d4db"
      },
      "outputs": [
        {
          "output_type": "error",
          "ename": "KeyError",
          "evalue": "'Score'",
          "traceback": [
            "\u001b[0;31m---------------------------------------------------------------------------\u001b[0m",
            "\u001b[0;31mKeyError\u001b[0m                                  Traceback (most recent call last)",
            "\u001b[0;32m/usr/local/lib/python3.10/dist-packages/pandas/core/indexes/base.py\u001b[0m in \u001b[0;36mget_loc\u001b[0;34m(self, key)\u001b[0m\n\u001b[1;32m   3652\u001b[0m         \u001b[0;32mtry\u001b[0m\u001b[0;34m:\u001b[0m\u001b[0;34m\u001b[0m\u001b[0;34m\u001b[0m\u001b[0m\n\u001b[0;32m-> 3653\u001b[0;31m             \u001b[0;32mreturn\u001b[0m \u001b[0mself\u001b[0m\u001b[0;34m.\u001b[0m\u001b[0m_engine\u001b[0m\u001b[0;34m.\u001b[0m\u001b[0mget_loc\u001b[0m\u001b[0;34m(\u001b[0m\u001b[0mcasted_key\u001b[0m\u001b[0;34m)\u001b[0m\u001b[0;34m\u001b[0m\u001b[0;34m\u001b[0m\u001b[0m\n\u001b[0m\u001b[1;32m   3654\u001b[0m         \u001b[0;32mexcept\u001b[0m \u001b[0mKeyError\u001b[0m \u001b[0;32mas\u001b[0m \u001b[0merr\u001b[0m\u001b[0;34m:\u001b[0m\u001b[0;34m\u001b[0m\u001b[0;34m\u001b[0m\u001b[0m\n",
            "\u001b[0;32m/usr/local/lib/python3.10/dist-packages/pandas/_libs/index.pyx\u001b[0m in \u001b[0;36mpandas._libs.index.IndexEngine.get_loc\u001b[0;34m()\u001b[0m\n",
            "\u001b[0;32m/usr/local/lib/python3.10/dist-packages/pandas/_libs/index.pyx\u001b[0m in \u001b[0;36mpandas._libs.index.IndexEngine.get_loc\u001b[0;34m()\u001b[0m\n",
            "\u001b[0;32mpandas/_libs/index_class_helper.pxi\u001b[0m in \u001b[0;36mpandas._libs.index.Int64Engine._check_type\u001b[0;34m()\u001b[0m\n",
            "\u001b[0;31mKeyError\u001b[0m: 'Score'",
            "\nThe above exception was the direct cause of the following exception:\n",
            "\u001b[0;31mKeyError\u001b[0m                                  Traceback (most recent call last)",
            "\u001b[0;32m<ipython-input-11-ccc77a77db99>\u001b[0m in \u001b[0;36m<cell line: 1>\u001b[0;34m()\u001b[0m\n\u001b[0;32m----> 1\u001b[0;31m \u001b[0max\u001b[0m \u001b[0;34m=\u001b[0m \u001b[0mdf\u001b[0m\u001b[0;34m[\u001b[0m\u001b[0;34m'Score'\u001b[0m\u001b[0;34m]\u001b[0m\u001b[0;34m.\u001b[0m\u001b[0mvalue_counts\u001b[0m\u001b[0;34m(\u001b[0m\u001b[0;34m)\u001b[0m\u001b[0;34m.\u001b[0m\u001b[0msort_index\u001b[0m\u001b[0;34m(\u001b[0m\u001b[0;34m)\u001b[0m\u001b[0;31m \u001b[0m\u001b[0;31m\\\u001b[0m\u001b[0;34m\u001b[0m\u001b[0;34m\u001b[0m\u001b[0m\n\u001b[0m\u001b[1;32m      2\u001b[0m     .plot(kind='bar',\n\u001b[1;32m      3\u001b[0m           \u001b[0mtitle\u001b[0m\u001b[0;34m=\u001b[0m\u001b[0;34m'Count of Reviews by Stars'\u001b[0m\u001b[0;34m,\u001b[0m\u001b[0;34m\u001b[0m\u001b[0;34m\u001b[0m\u001b[0m\n\u001b[1;32m      4\u001b[0m           figsize=(10, 5))\n\u001b[1;32m      5\u001b[0m \u001b[0max\u001b[0m\u001b[0;34m.\u001b[0m\u001b[0mset_xlabel\u001b[0m\u001b[0;34m(\u001b[0m\u001b[0;34m'Review Stars'\u001b[0m\u001b[0;34m)\u001b[0m\u001b[0;34m\u001b[0m\u001b[0;34m\u001b[0m\u001b[0m\n",
            "\u001b[0;32m/usr/local/lib/python3.10/dist-packages/pandas/core/frame.py\u001b[0m in \u001b[0;36m__getitem__\u001b[0;34m(self, key)\u001b[0m\n\u001b[1;32m   3759\u001b[0m             \u001b[0;32mif\u001b[0m \u001b[0mself\u001b[0m\u001b[0;34m.\u001b[0m\u001b[0mcolumns\u001b[0m\u001b[0;34m.\u001b[0m\u001b[0mnlevels\u001b[0m \u001b[0;34m>\u001b[0m \u001b[0;36m1\u001b[0m\u001b[0;34m:\u001b[0m\u001b[0;34m\u001b[0m\u001b[0;34m\u001b[0m\u001b[0m\n\u001b[1;32m   3760\u001b[0m                 \u001b[0;32mreturn\u001b[0m \u001b[0mself\u001b[0m\u001b[0;34m.\u001b[0m\u001b[0m_getitem_multilevel\u001b[0m\u001b[0;34m(\u001b[0m\u001b[0mkey\u001b[0m\u001b[0;34m)\u001b[0m\u001b[0;34m\u001b[0m\u001b[0;34m\u001b[0m\u001b[0m\n\u001b[0;32m-> 3761\u001b[0;31m             \u001b[0mindexer\u001b[0m \u001b[0;34m=\u001b[0m \u001b[0mself\u001b[0m\u001b[0;34m.\u001b[0m\u001b[0mcolumns\u001b[0m\u001b[0;34m.\u001b[0m\u001b[0mget_loc\u001b[0m\u001b[0;34m(\u001b[0m\u001b[0mkey\u001b[0m\u001b[0;34m)\u001b[0m\u001b[0;34m\u001b[0m\u001b[0;34m\u001b[0m\u001b[0m\n\u001b[0m\u001b[1;32m   3762\u001b[0m             \u001b[0;32mif\u001b[0m \u001b[0mis_integer\u001b[0m\u001b[0;34m(\u001b[0m\u001b[0mindexer\u001b[0m\u001b[0;34m)\u001b[0m\u001b[0;34m:\u001b[0m\u001b[0;34m\u001b[0m\u001b[0;34m\u001b[0m\u001b[0m\n\u001b[1;32m   3763\u001b[0m                 \u001b[0mindexer\u001b[0m \u001b[0;34m=\u001b[0m \u001b[0;34m[\u001b[0m\u001b[0mindexer\u001b[0m\u001b[0;34m]\u001b[0m\u001b[0;34m\u001b[0m\u001b[0;34m\u001b[0m\u001b[0m\n",
            "\u001b[0;32m/usr/local/lib/python3.10/dist-packages/pandas/core/indexes/base.py\u001b[0m in \u001b[0;36mget_loc\u001b[0;34m(self, key)\u001b[0m\n\u001b[1;32m   3653\u001b[0m             \u001b[0;32mreturn\u001b[0m \u001b[0mself\u001b[0m\u001b[0;34m.\u001b[0m\u001b[0m_engine\u001b[0m\u001b[0;34m.\u001b[0m\u001b[0mget_loc\u001b[0m\u001b[0;34m(\u001b[0m\u001b[0mcasted_key\u001b[0m\u001b[0;34m)\u001b[0m\u001b[0;34m\u001b[0m\u001b[0;34m\u001b[0m\u001b[0m\n\u001b[1;32m   3654\u001b[0m         \u001b[0;32mexcept\u001b[0m \u001b[0mKeyError\u001b[0m \u001b[0;32mas\u001b[0m \u001b[0merr\u001b[0m\u001b[0;34m:\u001b[0m\u001b[0;34m\u001b[0m\u001b[0;34m\u001b[0m\u001b[0m\n\u001b[0;32m-> 3655\u001b[0;31m             \u001b[0;32mraise\u001b[0m \u001b[0mKeyError\u001b[0m\u001b[0;34m(\u001b[0m\u001b[0mkey\u001b[0m\u001b[0;34m)\u001b[0m \u001b[0;32mfrom\u001b[0m \u001b[0merr\u001b[0m\u001b[0;34m\u001b[0m\u001b[0;34m\u001b[0m\u001b[0m\n\u001b[0m\u001b[1;32m   3656\u001b[0m         \u001b[0;32mexcept\u001b[0m \u001b[0mTypeError\u001b[0m\u001b[0;34m:\u001b[0m\u001b[0;34m\u001b[0m\u001b[0;34m\u001b[0m\u001b[0m\n\u001b[1;32m   3657\u001b[0m             \u001b[0;31m# If we have a listlike key, _check_indexing_error will raise\u001b[0m\u001b[0;34m\u001b[0m\u001b[0;34m\u001b[0m\u001b[0m\n",
            "\u001b[0;31mKeyError\u001b[0m: 'Score'"
          ]
        }
      ],
      "source": [
        "ax = df['Score'].value_counts().sort_index() \\\n",
        "    .plot(kind='bar',\n",
        "          title='Count of Reviews by Stars',\n",
        "          figsize=(10, 5))\n",
        "ax.set_xlabel('Review Stars')\n",
        "plt.show()"
      ]
    },
    {
      "cell_type": "markdown",
      "id": "7f120e87",
      "metadata": {
        "papermill": {
          "duration": 0.045145,
          "end_time": "2022-05-05T13:16:56.409956",
          "exception": false,
          "start_time": "2022-05-05T13:16:56.364811",
          "status": "completed"
        },
        "tags": [],
        "id": "7f120e87"
      },
      "source": [
        "## Basic NLTK"
      ]
    },
    {
      "cell_type": "code",
      "execution_count": null,
      "id": "961a6354",
      "metadata": {
        "execution": {
          "iopub.execute_input": "2022-05-05T13:16:56.509015Z",
          "iopub.status.busy": "2022-05-05T13:16:56.507968Z",
          "iopub.status.idle": "2022-05-05T13:16:56.514055Z",
          "shell.execute_reply": "2022-05-05T13:16:56.512884Z"
        },
        "papermill": {
          "duration": 0.062049,
          "end_time": "2022-05-05T13:16:56.516323",
          "exception": false,
          "start_time": "2022-05-05T13:16:56.454274",
          "status": "completed"
        },
        "tags": [],
        "id": "961a6354"
      },
      "outputs": [],
      "source": [
        "example = df['Text'][50]\n",
        "print(example)"
      ]
    },
    {
      "cell_type": "code",
      "execution_count": null,
      "id": "9288e3d5",
      "metadata": {
        "execution": {
          "iopub.execute_input": "2022-05-05T13:16:56.608781Z",
          "iopub.status.busy": "2022-05-05T13:16:56.607770Z",
          "iopub.status.idle": "2022-05-05T13:16:56.630752Z",
          "shell.execute_reply": "2022-05-05T13:16:56.629923Z"
        },
        "papermill": {
          "duration": 0.071372,
          "end_time": "2022-05-05T13:16:56.632816",
          "exception": false,
          "start_time": "2022-05-05T13:16:56.561444",
          "status": "completed"
        },
        "tags": [],
        "id": "9288e3d5"
      },
      "outputs": [],
      "source": [
        "tokens = nltk.word_tokenize(example)\n",
        "tokens[:10]"
      ]
    },
    {
      "cell_type": "code",
      "execution_count": null,
      "id": "376bacdc",
      "metadata": {
        "execution": {
          "iopub.execute_input": "2022-05-05T13:16:56.725635Z",
          "iopub.status.busy": "2022-05-05T13:16:56.724837Z",
          "iopub.status.idle": "2022-05-05T13:16:56.897438Z",
          "shell.execute_reply": "2022-05-05T13:16:56.896382Z"
        },
        "papermill": {
          "duration": 0.221776,
          "end_time": "2022-05-05T13:16:56.899905",
          "exception": false,
          "start_time": "2022-05-05T13:16:56.678129",
          "status": "completed"
        },
        "tags": [],
        "id": "376bacdc"
      },
      "outputs": [],
      "source": [
        "tagged = nltk.pos_tag(tokens)\n",
        "tagged[:10]"
      ]
    },
    {
      "cell_type": "code",
      "execution_count": null,
      "id": "1f788639",
      "metadata": {
        "execution": {
          "iopub.execute_input": "2022-05-05T13:16:56.993228Z",
          "iopub.status.busy": "2022-05-05T13:16:56.992900Z",
          "iopub.status.idle": "2022-05-05T13:16:57.184131Z",
          "shell.execute_reply": "2022-05-05T13:16:57.183295Z"
        },
        "papermill": {
          "duration": 0.241342,
          "end_time": "2022-05-05T13:16:57.186860",
          "exception": false,
          "start_time": "2022-05-05T13:16:56.945518",
          "status": "completed"
        },
        "tags": [],
        "id": "1f788639"
      },
      "outputs": [],
      "source": [
        "entities = nltk.chunk.ne_chunk(tagged)\n",
        "entities.pprint()"
      ]
    },
    {
      "cell_type": "markdown",
      "id": "1ba722a7",
      "metadata": {
        "papermill": {
          "duration": 0.046573,
          "end_time": "2022-05-05T13:16:57.280042",
          "exception": false,
          "start_time": "2022-05-05T13:16:57.233469",
          "status": "completed"
        },
        "tags": [],
        "id": "1ba722a7"
      },
      "source": [
        "# Step 1. VADER Seniment Scoring\n",
        "\n",
        "We will use NLTK's `SentimentIntensityAnalyzer` to get the neg/neu/pos scores of the text.\n",
        "\n",
        "- This uses a \"bag of words\" approach:\n",
        "    1. Stop words are removed\n",
        "    2. each word is scored and combined to a total score."
      ]
    },
    {
      "cell_type": "code",
      "execution_count": null,
      "id": "8b04039d",
      "metadata": {
        "execution": {
          "iopub.execute_input": "2022-05-05T13:16:57.375055Z",
          "iopub.status.busy": "2022-05-05T13:16:57.374697Z",
          "iopub.status.idle": "2022-05-05T13:16:57.412693Z",
          "shell.execute_reply": "2022-05-05T13:16:57.411692Z"
        },
        "papermill": {
          "duration": 0.089388,
          "end_time": "2022-05-05T13:16:57.416134",
          "exception": false,
          "start_time": "2022-05-05T13:16:57.326746",
          "status": "completed"
        },
        "tags": [],
        "id": "8b04039d"
      },
      "outputs": [],
      "source": [
        "from nltk.sentiment import SentimentIntensityAnalyzer\n",
        "from tqdm.notebook import tqdm\n",
        "\n",
        "sia = SentimentIntensityAnalyzer()"
      ]
    },
    {
      "cell_type": "code",
      "execution_count": null,
      "id": "6de9cd7c",
      "metadata": {
        "execution": {
          "iopub.execute_input": "2022-05-05T13:16:57.511819Z",
          "iopub.status.busy": "2022-05-05T13:16:57.511435Z",
          "iopub.status.idle": "2022-05-05T13:16:57.518090Z",
          "shell.execute_reply": "2022-05-05T13:16:57.517264Z"
        },
        "papermill": {
          "duration": 0.057151,
          "end_time": "2022-05-05T13:16:57.520575",
          "exception": false,
          "start_time": "2022-05-05T13:16:57.463424",
          "status": "completed"
        },
        "tags": [],
        "id": "6de9cd7c"
      },
      "outputs": [],
      "source": [
        "sia.polarity_scores('I am so happy!')"
      ]
    },
    {
      "cell_type": "code",
      "execution_count": null,
      "id": "4e777c60",
      "metadata": {
        "execution": {
          "iopub.execute_input": "2022-05-05T13:16:57.616279Z",
          "iopub.status.busy": "2022-05-05T13:16:57.615311Z",
          "iopub.status.idle": "2022-05-05T13:16:57.623029Z",
          "shell.execute_reply": "2022-05-05T13:16:57.622127Z"
        },
        "papermill": {
          "duration": 0.05812,
          "end_time": "2022-05-05T13:16:57.625093",
          "exception": false,
          "start_time": "2022-05-05T13:16:57.566973",
          "status": "completed"
        },
        "tags": [],
        "id": "4e777c60"
      },
      "outputs": [],
      "source": [
        "sia.polarity_scores('This is the worst thing ever.')"
      ]
    },
    {
      "cell_type": "code",
      "execution_count": null,
      "id": "7ef2b004",
      "metadata": {
        "execution": {
          "iopub.execute_input": "2022-05-05T13:16:57.720840Z",
          "iopub.status.busy": "2022-05-05T13:16:57.720273Z",
          "iopub.status.idle": "2022-05-05T13:16:57.727584Z",
          "shell.execute_reply": "2022-05-05T13:16:57.726681Z"
        },
        "papermill": {
          "duration": 0.057698,
          "end_time": "2022-05-05T13:16:57.729566",
          "exception": false,
          "start_time": "2022-05-05T13:16:57.671868",
          "status": "completed"
        },
        "tags": [],
        "id": "7ef2b004"
      },
      "outputs": [],
      "source": [
        "sia.polarity_scores(example)"
      ]
    },
    {
      "cell_type": "code",
      "execution_count": null,
      "id": "78137d2a",
      "metadata": {
        "execution": {
          "iopub.execute_input": "2022-05-05T13:16:57.826141Z",
          "iopub.status.busy": "2022-05-05T13:16:57.825624Z",
          "iopub.status.idle": "2022-05-05T13:16:58.424856Z",
          "shell.execute_reply": "2022-05-05T13:16:58.423673Z"
        },
        "papermill": {
          "duration": 0.650564,
          "end_time": "2022-05-05T13:16:58.427263",
          "exception": false,
          "start_time": "2022-05-05T13:16:57.776699",
          "status": "completed"
        },
        "tags": [],
        "id": "78137d2a"
      },
      "outputs": [],
      "source": [
        "# Run the polarity score on the entire dataset\n",
        "res = {}\n",
        "for i, row in tqdm(df.iterrows(), total=len(df)):\n",
        "    text = row['Text']\n",
        "    myid = row['Id']\n",
        "    res[myid] = sia.polarity_scores(text)"
      ]
    },
    {
      "cell_type": "code",
      "execution_count": null,
      "id": "375cf2a4",
      "metadata": {
        "execution": {
          "iopub.execute_input": "2022-05-05T13:16:58.526666Z",
          "iopub.status.busy": "2022-05-05T13:16:58.525900Z",
          "iopub.status.idle": "2022-05-05T13:16:58.565505Z",
          "shell.execute_reply": "2022-05-05T13:16:58.564430Z"
        },
        "papermill": {
          "duration": 0.092622,
          "end_time": "2022-05-05T13:16:58.568367",
          "exception": false,
          "start_time": "2022-05-05T13:16:58.475745",
          "status": "completed"
        },
        "tags": [],
        "id": "375cf2a4"
      },
      "outputs": [],
      "source": [
        "vaders = pd.DataFrame(res).T\n",
        "vaders = vaders.reset_index().rename(columns={'index': 'Id'})\n",
        "vaders = vaders.merge(df, how='left')"
      ]
    },
    {
      "cell_type": "code",
      "execution_count": null,
      "id": "68a573ab",
      "metadata": {
        "execution": {
          "iopub.execute_input": "2022-05-05T13:16:58.668468Z",
          "iopub.status.busy": "2022-05-05T13:16:58.667815Z",
          "iopub.status.idle": "2022-05-05T13:16:58.686869Z",
          "shell.execute_reply": "2022-05-05T13:16:58.685970Z"
        },
        "papermill": {
          "duration": 0.071353,
          "end_time": "2022-05-05T13:16:58.689144",
          "exception": false,
          "start_time": "2022-05-05T13:16:58.617791",
          "status": "completed"
        },
        "tags": [],
        "id": "68a573ab"
      },
      "outputs": [],
      "source": [
        "# Now we have sentiment score and metadata\n",
        "vaders.head()"
      ]
    },
    {
      "cell_type": "markdown",
      "id": "7b29cf86",
      "metadata": {
        "papermill": {
          "duration": 0.048405,
          "end_time": "2022-05-05T13:16:58.786797",
          "exception": false,
          "start_time": "2022-05-05T13:16:58.738392",
          "status": "completed"
        },
        "tags": [],
        "id": "7b29cf86"
      },
      "source": [
        "## Plot VADER results"
      ]
    },
    {
      "cell_type": "code",
      "execution_count": null,
      "id": "3b48c03d",
      "metadata": {
        "execution": {
          "iopub.execute_input": "2022-05-05T13:16:58.886848Z",
          "iopub.status.busy": "2022-05-05T13:16:58.886105Z",
          "iopub.status.idle": "2022-05-05T13:16:59.234988Z",
          "shell.execute_reply": "2022-05-05T13:16:59.234087Z"
        },
        "papermill": {
          "duration": 0.402272,
          "end_time": "2022-05-05T13:16:59.237643",
          "exception": false,
          "start_time": "2022-05-05T13:16:58.835371",
          "status": "completed"
        },
        "tags": [],
        "id": "3b48c03d"
      },
      "outputs": [],
      "source": [
        "ax = sns.barplot(data=vaders, x='Score', y='compound')\n",
        "ax.set_title('Compund Score by Amazon Star Review')\n",
        "plt.show()"
      ]
    },
    {
      "cell_type": "code",
      "execution_count": null,
      "id": "72b62708",
      "metadata": {
        "execution": {
          "iopub.execute_input": "2022-05-05T13:16:59.340215Z",
          "iopub.status.busy": "2022-05-05T13:16:59.339559Z",
          "iopub.status.idle": "2022-05-05T13:17:00.450349Z",
          "shell.execute_reply": "2022-05-05T13:17:00.449611Z"
        },
        "papermill": {
          "duration": 1.165303,
          "end_time": "2022-05-05T13:17:00.452607",
          "exception": false,
          "start_time": "2022-05-05T13:16:59.287304",
          "status": "completed"
        },
        "tags": [],
        "id": "72b62708"
      },
      "outputs": [],
      "source": [
        "fig, axs = plt.subplots(1, 3, figsize=(12, 3))\n",
        "sns.barplot(data=vaders, x='Score', y='pos', ax=axs[0])\n",
        "sns.barplot(data=vaders, x='Score', y='neu', ax=axs[1])\n",
        "sns.barplot(data=vaders, x='Score', y='neg', ax=axs[2])\n",
        "axs[0].set_title('Positive')\n",
        "axs[1].set_title('Neutral')\n",
        "axs[2].set_title('Negative')\n",
        "plt.tight_layout()\n",
        "plt.show()"
      ]
    },
    {
      "cell_type": "markdown",
      "id": "8284d043",
      "metadata": {
        "papermill": {
          "duration": 0.051663,
          "end_time": "2022-05-05T13:17:00.555740",
          "exception": false,
          "start_time": "2022-05-05T13:17:00.504077",
          "status": "completed"
        },
        "tags": [],
        "id": "8284d043"
      },
      "source": [
        "# Step 3. Roberta Pretrained Model\n",
        "\n",
        "- Use a model trained of a large corpus of data.\n",
        "- Transformer model accounts for the words but also the context related to other words."
      ]
    },
    {
      "cell_type": "code",
      "execution_count": null,
      "id": "6b05183d",
      "metadata": {
        "execution": {
          "iopub.execute_input": "2022-05-05T13:17:00.660992Z",
          "iopub.status.busy": "2022-05-05T13:17:00.660638Z",
          "iopub.status.idle": "2022-05-05T13:17:07.529006Z",
          "shell.execute_reply": "2022-05-05T13:17:07.527954Z"
        },
        "papermill": {
          "duration": 6.924232,
          "end_time": "2022-05-05T13:17:07.531880",
          "exception": false,
          "start_time": "2022-05-05T13:17:00.607648",
          "status": "completed"
        },
        "tags": [],
        "id": "6b05183d"
      },
      "outputs": [],
      "source": [
        "from transformers import AutoTokenizer\n",
        "from transformers import AutoModelForSequenceClassification\n",
        "from scipy.special import softmax"
      ]
    },
    {
      "cell_type": "code",
      "execution_count": null,
      "id": "26ffb071",
      "metadata": {
        "execution": {
          "iopub.execute_input": "2022-05-05T13:17:07.638903Z",
          "iopub.status.busy": "2022-05-05T13:17:07.637826Z",
          "iopub.status.idle": "2022-05-05T13:17:40.090861Z",
          "shell.execute_reply": "2022-05-05T13:17:40.089889Z"
        },
        "papermill": {
          "duration": 32.50923,
          "end_time": "2022-05-05T13:17:40.093749",
          "exception": false,
          "start_time": "2022-05-05T13:17:07.584519",
          "status": "completed"
        },
        "tags": [],
        "id": "26ffb071"
      },
      "outputs": [],
      "source": [
        "MODEL = f\"cardiffnlp/twitter-roberta-base-sentiment\"\n",
        "tokenizer = AutoTokenizer.from_pretrained(MODEL)\n",
        "model = AutoModelForSequenceClassification.from_pretrained(MODEL)"
      ]
    },
    {
      "cell_type": "code",
      "execution_count": null,
      "id": "96e69c91",
      "metadata": {
        "execution": {
          "iopub.execute_input": "2022-05-05T13:17:40.211381Z",
          "iopub.status.busy": "2022-05-05T13:17:40.210458Z",
          "iopub.status.idle": "2022-05-05T13:17:40.219748Z",
          "shell.execute_reply": "2022-05-05T13:17:40.218436Z"
        },
        "papermill": {
          "duration": 0.069563,
          "end_time": "2022-05-05T13:17:40.221986",
          "exception": false,
          "start_time": "2022-05-05T13:17:40.152423",
          "status": "completed"
        },
        "tags": [],
        "id": "96e69c91"
      },
      "outputs": [],
      "source": [
        "# VADER results on example\n",
        "print(example)\n",
        "sia.polarity_scores(example)"
      ]
    },
    {
      "cell_type": "code",
      "execution_count": null,
      "id": "dada19a5",
      "metadata": {
        "execution": {
          "iopub.execute_input": "2022-05-05T13:17:40.337743Z",
          "iopub.status.busy": "2022-05-05T13:17:40.337047Z",
          "iopub.status.idle": "2022-05-05T13:17:40.580183Z",
          "shell.execute_reply": "2022-05-05T13:17:40.579435Z"
        },
        "papermill": {
          "duration": 0.305753,
          "end_time": "2022-05-05T13:17:40.583569",
          "exception": false,
          "start_time": "2022-05-05T13:17:40.277816",
          "status": "completed"
        },
        "tags": [],
        "id": "dada19a5"
      },
      "outputs": [],
      "source": [
        "# Run for Roberta Model\n",
        "encoded_text = tokenizer(example, return_tensors='pt')\n",
        "output = model(**encoded_text)\n",
        "scores = output[0][0].detach().numpy()\n",
        "scores = softmax(scores)\n",
        "scores_dict = {\n",
        "    'roberta_neg' : scores[0],\n",
        "    'roberta_neu' : scores[1],\n",
        "    'roberta_pos' : scores[2]\n",
        "}\n",
        "print(scores_dict)"
      ]
    },
    {
      "cell_type": "code",
      "execution_count": null,
      "id": "106aa26b",
      "metadata": {
        "execution": {
          "iopub.execute_input": "2022-05-05T13:17:40.709572Z",
          "iopub.status.busy": "2022-05-05T13:17:40.708503Z",
          "iopub.status.idle": "2022-05-05T13:17:40.716037Z",
          "shell.execute_reply": "2022-05-05T13:17:40.714910Z"
        },
        "papermill": {
          "duration": 0.071336,
          "end_time": "2022-05-05T13:17:40.718066",
          "exception": false,
          "start_time": "2022-05-05T13:17:40.646730",
          "status": "completed"
        },
        "tags": [],
        "id": "106aa26b"
      },
      "outputs": [],
      "source": [
        "def polarity_scores_roberta(example):\n",
        "    encoded_text = tokenizer(example, return_tensors='pt')\n",
        "    output = model(**encoded_text)\n",
        "    scores = output[0][0].detach().numpy()\n",
        "    scores = softmax(scores)\n",
        "    scores_dict = {\n",
        "        'roberta_neg' : scores[0],\n",
        "        'roberta_neu' : scores[1],\n",
        "        'roberta_pos' : scores[2]\n",
        "    }\n",
        "    return scores_dict"
      ]
    },
    {
      "cell_type": "code",
      "execution_count": null,
      "id": "4ce5a321",
      "metadata": {
        "execution": {
          "iopub.execute_input": "2022-05-05T13:17:40.832376Z",
          "iopub.status.busy": "2022-05-05T13:17:40.831785Z",
          "iopub.status.idle": "2022-05-05T13:19:23.171886Z",
          "shell.execute_reply": "2022-05-05T13:19:23.170452Z"
        },
        "papermill": {
          "duration": 102.401794,
          "end_time": "2022-05-05T13:19:23.175521",
          "exception": false,
          "start_time": "2022-05-05T13:17:40.773727",
          "status": "completed"
        },
        "tags": [],
        "id": "4ce5a321"
      },
      "outputs": [],
      "source": [
        "res = {}\n",
        "for i, row in tqdm(df.iterrows(), total=len(df)):\n",
        "    try:\n",
        "        text = row['Text']\n",
        "        myid = row['Id']\n",
        "        vader_result = sia.polarity_scores(text)\n",
        "        vader_result_rename = {}\n",
        "        for key, value in vader_result.items():\n",
        "            vader_result_rename[f\"vader_{key}\"] = value\n",
        "        roberta_result = polarity_scores_roberta(text)\n",
        "        both = {**vader_result_rename, **roberta_result}\n",
        "        res[myid] = both\n",
        "    except RuntimeError:\n",
        "        print(f'Broke for id {myid}')"
      ]
    },
    {
      "cell_type": "code",
      "execution_count": null,
      "id": "55e542e5",
      "metadata": {
        "execution": {
          "iopub.execute_input": "2022-05-05T13:19:23.320147Z",
          "iopub.status.busy": "2022-05-05T13:19:23.319203Z",
          "iopub.status.idle": "2022-05-05T13:19:23.372276Z",
          "shell.execute_reply": "2022-05-05T13:19:23.371572Z"
        },
        "papermill": {
          "duration": 0.123954,
          "end_time": "2022-05-05T13:19:23.375117",
          "exception": false,
          "start_time": "2022-05-05T13:19:23.251163",
          "status": "completed"
        },
        "tags": [],
        "id": "55e542e5"
      },
      "outputs": [],
      "source": [
        "results_df = pd.DataFrame(res).T\n",
        "results_df = results_df.reset_index().rename(columns={'index': 'Id'})\n",
        "results_df = results_df.merge(df, how='left')"
      ]
    },
    {
      "cell_type": "markdown",
      "id": "e011a88a",
      "metadata": {
        "execution": {
          "iopub.execute_input": "2022-05-04T20:13:28.535935Z",
          "iopub.status.busy": "2022-05-04T20:13:28.535656Z",
          "iopub.status.idle": "2022-05-04T20:13:28.558465Z",
          "shell.execute_reply": "2022-05-04T20:13:28.55787Z",
          "shell.execute_reply.started": "2022-05-04T20:13:28.535906Z"
        },
        "papermill": {
          "duration": 0.078435,
          "end_time": "2022-05-05T13:19:23.517301",
          "exception": false,
          "start_time": "2022-05-05T13:19:23.438866",
          "status": "completed"
        },
        "tags": [],
        "id": "e011a88a"
      },
      "source": [
        "## Compare Scores between models"
      ]
    },
    {
      "cell_type": "code",
      "execution_count": null,
      "id": "070b89da",
      "metadata": {
        "execution": {
          "iopub.execute_input": "2022-05-05T13:19:23.679021Z",
          "iopub.status.busy": "2022-05-05T13:19:23.678562Z",
          "iopub.status.idle": "2022-05-05T13:19:23.688358Z",
          "shell.execute_reply": "2022-05-05T13:19:23.687559Z"
        },
        "papermill": {
          "duration": 0.107915,
          "end_time": "2022-05-05T13:19:23.691814",
          "exception": false,
          "start_time": "2022-05-05T13:19:23.583899",
          "status": "completed"
        },
        "tags": [],
        "id": "070b89da"
      },
      "outputs": [],
      "source": [
        "results_df.columns"
      ]
    },
    {
      "cell_type": "markdown",
      "id": "b6193063",
      "metadata": {
        "papermill": {
          "duration": 0.063959,
          "end_time": "2022-05-05T13:19:23.833747",
          "exception": false,
          "start_time": "2022-05-05T13:19:23.769788",
          "status": "completed"
        },
        "tags": [],
        "id": "b6193063"
      },
      "source": [
        "# Step 3. Combine and compare"
      ]
    },
    {
      "cell_type": "code",
      "execution_count": null,
      "id": "a7c2ed2f",
      "metadata": {
        "execution": {
          "iopub.execute_input": "2022-05-05T13:19:23.967863Z",
          "iopub.status.busy": "2022-05-05T13:19:23.967211Z",
          "iopub.status.idle": "2022-05-05T13:19:36.168088Z",
          "shell.execute_reply": "2022-05-05T13:19:36.167286Z"
        },
        "papermill": {
          "duration": 12.27941,
          "end_time": "2022-05-05T13:19:36.178559",
          "exception": false,
          "start_time": "2022-05-05T13:19:23.899149",
          "status": "completed"
        },
        "tags": [],
        "id": "a7c2ed2f"
      },
      "outputs": [],
      "source": [
        "sns.pairplot(data=results_df,\n",
        "             vars=['vader_neg', 'vader_neu', 'vader_pos',\n",
        "                  'roberta_neg', 'roberta_neu', 'roberta_pos'],\n",
        "            hue='Score',\n",
        "            palette='tab10')\n",
        "plt.show()"
      ]
    },
    {
      "cell_type": "markdown",
      "id": "7ff79fef",
      "metadata": {
        "papermill": {
          "duration": 0.076545,
          "end_time": "2022-05-05T13:19:36.331105",
          "exception": false,
          "start_time": "2022-05-05T13:19:36.254560",
          "status": "completed"
        },
        "tags": [],
        "id": "7ff79fef"
      },
      "source": [
        "# Step 4: Review Examples:\n",
        "\n",
        "- Positive 1-Star and Negative 5-Star Reviews\n",
        "\n",
        "Lets look at some examples where the model scoring and review score differ the most."
      ]
    },
    {
      "cell_type": "code",
      "execution_count": null,
      "id": "9af7ab12",
      "metadata": {
        "execution": {
          "iopub.execute_input": "2022-05-05T13:19:36.487022Z",
          "iopub.status.busy": "2022-05-05T13:19:36.486435Z",
          "iopub.status.idle": "2022-05-05T13:19:36.501635Z",
          "shell.execute_reply": "2022-05-05T13:19:36.500884Z"
        },
        "papermill": {
          "duration": 0.09598,
          "end_time": "2022-05-05T13:19:36.503866",
          "exception": false,
          "start_time": "2022-05-05T13:19:36.407886",
          "status": "completed"
        },
        "tags": [],
        "id": "9af7ab12"
      },
      "outputs": [],
      "source": [
        "results_df.query('Score == 1') \\\n",
        "    .sort_values('roberta_pos', ascending=False)['Text'].values[0]"
      ]
    },
    {
      "cell_type": "code",
      "execution_count": null,
      "id": "35d0b663",
      "metadata": {
        "execution": {
          "iopub.execute_input": "2022-05-05T13:19:36.661786Z",
          "iopub.status.busy": "2022-05-05T13:19:36.661266Z",
          "iopub.status.idle": "2022-05-05T13:19:36.670602Z",
          "shell.execute_reply": "2022-05-05T13:19:36.669893Z"
        },
        "papermill": {
          "duration": 0.090222,
          "end_time": "2022-05-05T13:19:36.672801",
          "exception": false,
          "start_time": "2022-05-05T13:19:36.582579",
          "status": "completed"
        },
        "tags": [],
        "id": "35d0b663"
      },
      "outputs": [],
      "source": [
        "results_df.query('Score == 1') \\\n",
        "    .sort_values('vader_pos', ascending=False)['Text'].values[0]"
      ]
    },
    {
      "cell_type": "code",
      "execution_count": null,
      "id": "058d2382",
      "metadata": {
        "execution": {
          "iopub.execute_input": "2022-05-05T13:19:36.830720Z",
          "iopub.status.busy": "2022-05-05T13:19:36.830042Z",
          "iopub.status.idle": "2022-05-05T13:19:36.833502Z",
          "shell.execute_reply": "2022-05-05T13:19:36.832922Z"
        },
        "papermill": {
          "duration": 0.085106,
          "end_time": "2022-05-05T13:19:36.835524",
          "exception": false,
          "start_time": "2022-05-05T13:19:36.750418",
          "status": "completed"
        },
        "tags": [],
        "id": "058d2382"
      },
      "outputs": [],
      "source": [
        "# nevative sentiment 5-Star view"
      ]
    },
    {
      "cell_type": "code",
      "execution_count": null,
      "id": "fef6e269",
      "metadata": {
        "execution": {
          "iopub.execute_input": "2022-05-05T13:19:36.994630Z",
          "iopub.status.busy": "2022-05-05T13:19:36.993976Z",
          "iopub.status.idle": "2022-05-05T13:19:37.004608Z",
          "shell.execute_reply": "2022-05-05T13:19:37.003840Z"
        },
        "papermill": {
          "duration": 0.092678,
          "end_time": "2022-05-05T13:19:37.006708",
          "exception": false,
          "start_time": "2022-05-05T13:19:36.914030",
          "status": "completed"
        },
        "tags": [],
        "id": "fef6e269"
      },
      "outputs": [],
      "source": [
        "results_df.query('Score == 5') \\\n",
        "    .sort_values('roberta_neg', ascending=False)['Text'].values[0]"
      ]
    },
    {
      "cell_type": "code",
      "execution_count": null,
      "id": "ee500315",
      "metadata": {
        "execution": {
          "iopub.execute_input": "2022-05-05T13:19:37.165281Z",
          "iopub.status.busy": "2022-05-05T13:19:37.164635Z",
          "iopub.status.idle": "2022-05-05T13:19:37.174175Z",
          "shell.execute_reply": "2022-05-05T13:19:37.173617Z"
        },
        "papermill": {
          "duration": 0.091501,
          "end_time": "2022-05-05T13:19:37.176042",
          "exception": false,
          "start_time": "2022-05-05T13:19:37.084541",
          "status": "completed"
        },
        "tags": [],
        "id": "ee500315"
      },
      "outputs": [],
      "source": [
        "results_df.query('Score == 5') \\\n",
        "    .sort_values('vader_neg', ascending=False)['Text'].values[0]"
      ]
    },
    {
      "cell_type": "markdown",
      "id": "9fc72a7b",
      "metadata": {
        "papermill": {
          "duration": 0.079012,
          "end_time": "2022-05-05T13:19:37.334439",
          "exception": false,
          "start_time": "2022-05-05T13:19:37.255427",
          "status": "completed"
        },
        "tags": [],
        "id": "9fc72a7b"
      },
      "source": [
        "# Extra: The Transformers Pipeline\n",
        "- Quick & easy way to run sentiment predictions"
      ]
    },
    {
      "cell_type": "code",
      "execution_count": null,
      "id": "5ea6c156",
      "metadata": {
        "execution": {
          "iopub.execute_input": "2022-05-05T13:19:37.496074Z",
          "iopub.status.busy": "2022-05-05T13:19:37.495374Z",
          "iopub.status.idle": "2022-05-05T13:20:00.560131Z",
          "shell.execute_reply": "2022-05-05T13:20:00.559124Z"
        },
        "papermill": {
          "duration": 23.148785,
          "end_time": "2022-05-05T13:20:00.562817",
          "exception": false,
          "start_time": "2022-05-05T13:19:37.414032",
          "status": "completed"
        },
        "tags": [],
        "id": "5ea6c156"
      },
      "outputs": [],
      "source": [
        "from transformers import pipeline\n",
        "\n",
        "sent_pipeline = pipeline(\"sentiment-analysis\")"
      ]
    },
    {
      "cell_type": "code",
      "execution_count": null,
      "id": "dc6a909f",
      "metadata": {
        "execution": {
          "iopub.execute_input": "2022-05-05T13:20:00.730097Z",
          "iopub.status.busy": "2022-05-05T13:20:00.729084Z",
          "iopub.status.idle": "2022-05-05T13:20:00.772425Z",
          "shell.execute_reply": "2022-05-05T13:20:00.771663Z"
        },
        "papermill": {
          "duration": 0.130164,
          "end_time": "2022-05-05T13:20:00.775018",
          "exception": false,
          "start_time": "2022-05-05T13:20:00.644854",
          "status": "completed"
        },
        "tags": [],
        "id": "dc6a909f"
      },
      "outputs": [],
      "source": [
        "sent_pipeline('I love sentiment analysis!')"
      ]
    },
    {
      "cell_type": "code",
      "execution_count": null,
      "id": "afdc8162",
      "metadata": {
        "execution": {
          "iopub.execute_input": "2022-05-05T13:20:00.944919Z",
          "iopub.status.busy": "2022-05-05T13:20:00.944550Z",
          "iopub.status.idle": "2022-05-05T13:20:00.979903Z",
          "shell.execute_reply": "2022-05-05T13:20:00.979033Z"
        },
        "papermill": {
          "duration": 0.121649,
          "end_time": "2022-05-05T13:20:00.982352",
          "exception": false,
          "start_time": "2022-05-05T13:20:00.860703",
          "status": "completed"
        },
        "tags": [],
        "id": "afdc8162"
      },
      "outputs": [],
      "source": [
        "sent_pipeline('Make sure to like and subscribe!')"
      ]
    },
    {
      "cell_type": "code",
      "execution_count": null,
      "id": "62abeae4",
      "metadata": {
        "execution": {
          "iopub.execute_input": "2022-05-05T13:20:01.152603Z",
          "iopub.status.busy": "2022-05-05T13:20:01.152224Z",
          "iopub.status.idle": "2022-05-05T13:20:01.193635Z",
          "shell.execute_reply": "2022-05-05T13:20:01.192955Z"
        },
        "papermill": {
          "duration": 0.127649,
          "end_time": "2022-05-05T13:20:01.196032",
          "exception": false,
          "start_time": "2022-05-05T13:20:01.068383",
          "status": "completed"
        },
        "tags": [],
        "id": "62abeae4"
      },
      "outputs": [],
      "source": [
        "sent_pipeline('booo')"
      ]
    },
    {
      "cell_type": "markdown",
      "id": "06466a82",
      "metadata": {
        "papermill": {
          "duration": 0.081701,
          "end_time": "2022-05-05T13:20:01.361284",
          "exception": false,
          "start_time": "2022-05-05T13:20:01.279583",
          "status": "completed"
        },
        "tags": [],
        "id": "06466a82"
      },
      "source": [
        "# The End"
      ]
    }
  ],
  "metadata": {
    "kernelspec": {
      "display_name": "Python 3",
      "language": "python",
      "name": "python3"
    },
    "language_info": {
      "codemirror_mode": {
        "name": "ipython",
        "version": 3
      },
      "file_extension": ".py",
      "mimetype": "text/x-python",
      "name": "python",
      "nbconvert_exporter": "python",
      "pygments_lexer": "ipython3",
      "version": "3.7.12"
    },
    "papermill": {
      "default_parameters": {},
      "duration": 209.894032,
      "end_time": "2022-05-05T13:20:04.520385",
      "environment_variables": {},
      "exception": null,
      "input_path": "__notebook__.ipynb",
      "output_path": "__notebook__.ipynb",
      "parameters": {},
      "start_time": "2022-05-05T13:16:34.626353",
      "version": "2.3.4"
    },
    "colab": {
      "provenance": []
    }
  },
  "nbformat": 4,
  "nbformat_minor": 5
}